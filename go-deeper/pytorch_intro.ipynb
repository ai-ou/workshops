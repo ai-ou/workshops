{
 "cells": [
  {
   "cell_type": "markdown",
   "metadata": {},
   "source": [
    "# Intro to PyTorch\n",
    "\n",
    "This notebook contains a brief introduction to PyTorch."
   ]
  },
  {
   "cell_type": "code",
   "execution_count": null,
   "metadata": {},
   "outputs": [],
   "source": [
    "import torch\n",
    "import numpy as np"
   ]
  },
  {
   "cell_type": "markdown",
   "metadata": {},
   "source": [
    "### Creating tensors in Torch\n",
    "\n",
    "Torch can create tensors (vectors, matrices, or higher dimensional data structures) either from mathematical functions or from NumPy data:"
   ]
  },
  {
   "cell_type": "code",
   "execution_count": null,
   "metadata": {
    "scrolled": true
   },
   "outputs": [],
   "source": [
    "tensor_a = torch.ones(2, 4) # matrix of ones\n",
    "tensor_b = torch.randn(2, 4) # matrix with random values from a normal distribution\n",
    "tensor_c = torch.from_numpy(np.array([[1., 2., 3.], # matrix from NumPy data\n",
    "                                      [4., 5., 6.],\n",
    "                                      [7., 8., 9.]]))\n",
    "\n",
    "print(tensor_a)\n",
    "print(tensor_b)\n",
    "print(tensor_c)"
   ]
  },
  {
   "cell_type": "markdown",
   "metadata": {},
   "source": [
    "### Tensor arithmetic"
   ]
  },
  {
   "cell_type": "code",
   "execution_count": null,
   "metadata": {},
   "outputs": [],
   "source": [
    "print(tensor_a * 4) # scalar multiplication\n",
    "\n",
    "print(tensor_a + 2) # scalar addition\n",
    "\n",
    "print(tensor_a + tensor_b) # tensor addition\n",
    "\n",
    "print(tensor_b * tensor_b) # tensor elementwise multiplication"
   ]
  },
  {
   "cell_type": "markdown",
   "metadata": {},
   "source": [
    "### Fundamental tensor operations"
   ]
  },
  {
   "cell_type": "code",
   "execution_count": null,
   "metadata": {},
   "outputs": [],
   "source": [
    "tensor_a_T = tensor_a.transpose(0, 1) # tensor transpose, swap dims 0 (row) and 1 (column)\n",
    "print(tensor_a)\n",
    "print(tensor_a_T)\n",
    "\n",
    "# matrix multiplication (At * A)\n",
    "print(torch.mm(tensor_a, tensor_a_T))\n",
    "print(torch.mm(tensor_a_T, tensor_a))\n",
    "\n",
    "# tensor_a_T @ tensor_a also works for matrix multiplication in Py 3.5+"
   ]
  },
  {
   "cell_type": "markdown",
   "metadata": {},
   "source": [
    "### 3D, 4D, etc. tensors"
   ]
  },
  {
   "cell_type": "code",
   "execution_count": null,
   "metadata": {},
   "outputs": [],
   "source": [
    "tensor_d = torch.randn(2, 3, 4)\n",
    "\n",
    "tensor_e = torch.randn(2, 4, 3)\n",
    "\n",
    "print(tensor_d)\n",
    "print(tensor_e)\n",
    "\n",
    "print(tensor_d @ tensor_e) # matrix multiply. uses second and third dims"
   ]
  },
  {
   "cell_type": "markdown",
   "metadata": {},
   "source": [
    "### Variables\n",
    "\n",
    "In PyTorch, Variables are containers that hold a Tensor along with some other information useful for representing variables in equations. A major feature of `Variable` is support for automatic differentiation: any Variable used in an expression calculated using a 'graph' Variables can be differentiated w.r.t. that expression."
   ]
  },
  {
   "cell_type": "code",
   "execution_count": null,
   "metadata": {},
   "outputs": [],
   "source": [
    "from torch.autograd import Variable\n",
    "\n",
    "var_a = Variable(torch.rand(4), requires_grad=True)\n",
    "var_b = var_a.log() # elementwise log of var_a\n",
    "var_c = var_b.sum(0) # sum of all elements in var_b\n",
    "\n",
    "print(var_a)\n",
    "print(var_b)\n",
    "\n",
    "var_c.backward()\n",
    "print(var_a.grad) # partial derivatives of var_a's elements w.r.t var_c"
   ]
  }
 ],
 "metadata": {
  "kernelspec": {
   "display_name": "Python 3",
   "language": "python",
   "name": "python3"
  },
  "language_info": {
   "codemirror_mode": {
    "name": "ipython",
    "version": 3
   },
   "file_extension": ".py",
   "mimetype": "text/x-python",
   "name": "python",
   "nbconvert_exporter": "python",
   "pygments_lexer": "ipython3",
   "version": "3.6.2"
  }
 },
 "nbformat": 4,
 "nbformat_minor": 2
}
