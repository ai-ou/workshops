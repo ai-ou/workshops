{
 "cells": [
  {
   "cell_type": "markdown",
   "metadata": {},
   "source": [
    "# Intro to PyTorch\n",
    "\n",
    "This notebook contains a brief introduction to PyTorch."
   ]
  },
  {
   "cell_type": "code",
   "execution_count": 1,
   "metadata": {},
   "outputs": [],
   "source": [
    "import torch\n",
    "import numpy as np"
   ]
  },
  {
   "cell_type": "markdown",
   "metadata": {},
   "source": [
    "### Creating tensors in Torch\n",
    "\n",
    "Torch can create tensors (vectors, matrices, or higher dimensional data structures) either from mathematical functions or from NumPy data:"
   ]
  },
  {
   "cell_type": "code",
   "execution_count": 2,
   "metadata": {
    "scrolled": true
   },
   "outputs": [
    {
     "name": "stdout",
     "output_type": "stream",
     "text": [
      "\n",
      " 1  1  1  1\n",
      " 1  1  1  1\n",
      "[torch.FloatTensor of size 2x4]\n",
      "\n",
      "\n",
      " 0.8823  0.2416  1.1997 -0.8477\n",
      "-0.5083 -0.3298 -1.1301 -0.7540\n",
      "[torch.FloatTensor of size 2x4]\n",
      "\n",
      "\n",
      " 1  2  3\n",
      " 4  5  6\n",
      " 7  8  9\n",
      "[torch.DoubleTensor of size 3x3]\n",
      "\n"
     ]
    }
   ],
   "source": [
    "tensor_a = torch.ones(2, 4) # matrix of ones\n",
    "tensor_b = torch.randn(2, 4) # matrix with random values from a normal distribution\n",
    "tensor_c = torch.from_numpy(np.array([[1., 2., 3.], # matrix from NumPy data\n",
    "                                      [4., 5., 6.],\n",
    "                                      [7., 8., 9.]]))\n",
    "\n",
    "print(tensor_a)\n",
    "print(tensor_b)\n",
    "print(tensor_c)"
   ]
  },
  {
   "cell_type": "markdown",
   "metadata": {},
   "source": [
    "### Tensor arithmetic"
   ]
  },
  {
   "cell_type": "code",
   "execution_count": 3,
   "metadata": {},
   "outputs": [
    {
     "name": "stdout",
     "output_type": "stream",
     "text": [
      "\n",
      " 4  4  4  4\n",
      " 4  4  4  4\n",
      "[torch.FloatTensor of size 2x4]\n",
      "\n",
      "\n",
      " 3  3  3  3\n",
      " 3  3  3  3\n",
      "[torch.FloatTensor of size 2x4]\n",
      "\n",
      "\n",
      " 1.8823  1.2416  2.1997  0.1523\n",
      " 0.4917  0.6702 -0.1301  0.2460\n",
      "[torch.FloatTensor of size 2x4]\n",
      "\n",
      "\n",
      " 0.7784  0.0584  1.4393  0.7186\n",
      " 0.2584  0.1087  1.2771  0.5685\n",
      "[torch.FloatTensor of size 2x4]\n",
      "\n"
     ]
    }
   ],
   "source": [
    "print(tensor_a * 4) # scalar multiplication\n",
    "\n",
    "print(tensor_a + 2) # scalar addition\n",
    "\n",
    "print(tensor_a + tensor_b) # tensor addition\n",
    "\n",
    "print(tensor_b * tensor_b) # tensor elementwise multiplication"
   ]
  },
  {
   "cell_type": "markdown",
   "metadata": {},
   "source": [
    "### Fundamental tensor operations"
   ]
  },
  {
   "cell_type": "code",
   "execution_count": null,
   "metadata": {},
   "outputs": [],
   "source": [
    "tensor_a_T = tensor_a.transpose(0, 1) # tensor transpose, swap dims 0 (row) and 1 (column)\n",
    "print(tensor_a)\n",
    "print(tensor_a_T)\n",
    "\n",
    "# matrix multiplication (At * A)\n",
    "print(torch.mm(tensor_a, tensor_a_T))\n",
    "print(torch.mm(tensor_a_T, tensor_a))\n",
    "\n",
    "# tensor_a_T @ tensor_a also works for matrix multiplication in Py 3.5+"
   ]
  },
  {
   "cell_type": "markdown",
   "metadata": {},
   "source": [
    "### 3D, 4D, etc. tensors"
   ]
  },
  {
   "cell_type": "code",
   "execution_count": null,
   "metadata": {},
   "outputs": [],
   "source": [
    "tensor_d = torch.randn(2, 3, 4)\n",
    "\n",
    "tensor_e = torch.randn(2, 4, 3)\n",
    "\n",
    "print(tensor_d)\n",
    "print(tensor_e)\n",
    "\n",
    "print(tensor_d @ tensor_e) # matrix multiply. uses second and third dims"
   ]
  },
  {
   "cell_type": "markdown",
   "metadata": {},
   "source": [
    "### Variables\n",
    "\n",
    "In PyTorch, Variables are containers that hold a Tensor along with some other information useful for representing variables in equations. A major feature of `Variable` is support for automatic differentiation: any Variable used in an expression calculated using a 'graph' Variables can be differentiated w.r.t. that expression."
   ]
  },
  {
   "cell_type": "code",
   "execution_count": null,
   "metadata": {},
   "outputs": [],
   "source": [
    "from torch.autograd import Variable\n",
    "\n",
    "var_a = Variable(torch.rand(4), requires_grad=True)\n",
    "var_b = var_a.log() # elementwise log of var_a\n",
    "var_c = var_b.sum(0) # sum of all elements in var_b\n",
    "\n",
    "print(var_a)\n",
    "print(var_b)\n",
    "\n",
    "var_c.backward()\n",
    "print(var_a.grad) # partial derivatives of var_a's elements w.r.t var_c"
   ]
  }
 ],
 "metadata": {
  "kernelspec": {
   "display_name": "Python 3",
   "language": "python",
   "name": "python3"
  },
  "language_info": {
   "codemirror_mode": {
    "name": "ipython",
    "version": 3
   },
   "file_extension": ".py",
   "mimetype": "text/x-python",
   "name": "python",
   "nbconvert_exporter": "python",
   "pygments_lexer": "ipython3",
   "version": "3.5.2"
  }
 },
 "nbformat": 4,
 "nbformat_minor": 2
}
